{
 "cells": [
  {
   "cell_type": "code",
   "execution_count": 1,
   "metadata": {},
   "outputs": [],
   "source": [
    "import boto3\n",
    "import botocore\n",
    "import json\n",
    "import os\n",
    "import numpy as np"
   ]
  },
  {
   "cell_type": "code",
   "execution_count": 2,
   "metadata": {},
   "outputs": [],
   "source": [
    "def from_local_file(image_file_path):\n",
    "    \n",
    "    #get s3 url from event dictionary\n",
    "    image_file = image_file_path\n",
    "    # bucket = 'shoofping-demo'\n",
    "    \n",
    "    #check if file exists\n",
    "    if not os.path.isfile(image_file):\n",
    "        print(\"File not found!\")\n",
    "        return\n",
    "    \n",
    "    #pass it to the aws rekognition api\n",
    "    r_client = boto3.client('rekognition')\n",
    "    with open(image_file, 'rb') as image:\n",
    "        response = r_client.detect_faces(Image={'Bytes': image.read()}, Attributes=['ALL'])\n",
    "        # response = r_client.detect_faces(Image={'S3Object': {'Bucket': bucket , 'Name': file_name}}, Attributes=['ALL'])\n",
    "    \n",
    "    def get_landmark(landmark_type):\n",
    "            for item in faceDetail['Landmarks']:\n",
    "                if item['Type'] == landmark_type:\n",
    "                    return item\n",
    "        \n",
    "    for faceDetail in response['FaceDetails']:\n",
    "        print('The detected face is between ' + str(faceDetail['AgeRange']['Low']) \n",
    "              + ' and ' + str(faceDetail['AgeRange']['High']) + ' years old')\n",
    "#         print('Here are the other attributes:')\n",
    "#         print(json.dumps(faceDetail, indent=4, sort_keys=True))\n",
    "        \n",
    "        main_features = {}\n",
    "        landmarks = {}\n",
    "            \n",
    "        leftPupil = get_landmark('leftPupil')[\"X\"]\n",
    "        rightPupil = get_landmark('rightPupil')[\"X\"]\n",
    "        main_features['pupillary_distance'] = abs(leftPupil - rightPupil)\n",
    "        \n",
    "        #calculate face shape\n",
    "        forehead_w = abs(get_landmark('upperJawlineLeft')[\"X\"] - get_landmark('upperJawlineRight')[\"X\"]) \n",
    "        mid_w = abs(get_landmark('midJawlineLeft')[\"X\"] - get_landmark('midJawlineRight')[\"X\"]) \n",
    "        main_features['forehead_width'] = forehead_w\n",
    "        main_features['midhead_width'] = mid_w\n",
    "        \n",
    "        mid_j_y = [get_landmark('midJawlineLeft')[\"Y\"], get_landmark('midJawlineRight')[\"Y\"]]\n",
    "        mid_j_x = (get_landmark('midJawlineLeft')[\"X\"], get_landmark('midJawlineRight')[\"X\"])\n",
    "        \n",
    "        chin_angle = np.arctan2(mid_j_y, mid_j_x) * 180/np.pi\n",
    "        jaw_angle = 180 - (chin_angle[0] + chin_angle[1])\n",
    "        main_features['jaw_angle'] = jaw_angle\n",
    "        main_features['f_w//mid_w'] = forehead_w/float(mid_w)\n",
    "        main_features['abs(f_w-mid_w)'] = abs(forehead_w - mid_w)\n",
    "        \n",
    "        \n",
    "        face_shape = \"UNKNOWN\"\n",
    "        if forehead_w/(float(mid_w)) > 1.5 and jaw_angle < 90:\n",
    "            face_shape = \"HEART?\"\n",
    "        elif abs(forehead_w - mid_w) < 0.1 and jaw_angle > 70 and jaw_angle < 150:\n",
    "            face_shape = \"SQUARE?\"\n",
    "        elif abs(forehead_w - mid_w) < 1 and jaw_angle > 70:\n",
    "            face_shape = \"ROUND?\"\n",
    "            \n",
    "        main_features['shape'] = face_shape\n",
    "        \n",
    "        print('Here are the calculated features:')\n",
    "        print(json.dumps(main_features, indent=4, sort_keys=True))\n",
    "        \n",
    "        \n",
    "        \n",
    "  \n",
    "        \n",
    "        \n",
    "            \n",
    "        \n",
    "\n",
    "    "
   ]
  },
  {
   "cell_type": "code",
   "execution_count": 3,
   "metadata": {},
   "outputs": [
    {
     "name": "stdout",
     "output_type": "stream",
     "text": [
      "The detected face is between 26 and 43 years old\n",
      "Here are the calculated features:\n",
      "{\n",
      "    \"abs(f_w-mid_w)\": 0.09383657574653625,\n",
      "    \"f_w//mid_w\": 1.2454306309120873,\n",
      "    \"forehead_width\": 0.47617098689079285,\n",
      "    \"jaw_angle\": 83.45000785044746,\n",
      "    \"midhead_width\": 0.3823344111442566,\n",
      "    \"pupillary_distance\": 0.2134687900543213,\n",
      "    \"shape\": \"SQUARE?\"\n",
      "}\n"
     ]
    }
   ],
   "source": [
    "from_local_file('C:/Temp/aws/faces/square.jpeg')"
   ]
  }
 ],
 "metadata": {
  "kernelspec": {
   "display_name": "Python 3",
   "language": "python",
   "name": "python3"
  },
  "language_info": {
   "codemirror_mode": {
    "name": "ipython",
    "version": 3
   },
   "file_extension": ".py",
   "mimetype": "text/x-python",
   "name": "python",
   "nbconvert_exporter": "python",
   "pygments_lexer": "ipython3",
   "version": "3.7.3"
  }
 },
 "nbformat": 4,
 "nbformat_minor": 2
}
